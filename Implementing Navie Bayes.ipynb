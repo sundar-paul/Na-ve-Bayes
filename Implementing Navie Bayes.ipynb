{
 "cells": [
  {
   "cell_type": "markdown",
   "id": "9294c4ef",
   "metadata": {},
   "source": [
    "# Implementing Naïve Bayes from scratch"
   ]
  },
  {
   "cell_type": "code",
   "execution_count": 4,
   "id": "93b82053",
   "metadata": {},
   "outputs": [],
   "source": [
    "import numpy as np\n",
    "from collections import defaultdict"
   ]
  },
  {
   "cell_type": "code",
   "execution_count": 5,
   "id": "559d4f53",
   "metadata": {},
   "outputs": [],
   "source": [
    "X_train = np.array([\n",
    "        [0, 1, 1],\n",
    "        [0, 0, 1],\n",
    "        [0, 0, 0],\n",
    "        [1, 1, 0]])\n",
    "Y_train = ['Y', 'N', 'Y', 'Y']"
   ]
  },
  {
   "cell_type": "code",
   "execution_count": 7,
   "id": "b85977d1",
   "metadata": {},
   "outputs": [],
   "source": [
    "X_test = np.array([[1,1,0]])"
   ]
  },
  {
   "cell_type": "code",
   "execution_count": 4,
   "id": "497f3462",
   "metadata": {},
   "outputs": [],
   "source": [
    "def get_label_indices(lables):\n",
    "    label_indices = defaultdict(list)\n",
    "    \n",
    "    for index,lable in enumerate(lables):\n",
    "        label_indices[lable].append(index)\n",
    "    return label_indices"
   ]
  },
  {
   "cell_type": "code",
   "execution_count": 5,
   "id": "03ccbb28",
   "metadata": {},
   "outputs": [
    {
     "name": "stdout",
     "output_type": "stream",
     "text": [
      "label indices:\n",
      " defaultdict(<class 'list'>, {'Y': [0, 2, 3], 'N': [1]})\n"
     ]
    }
   ],
   "source": [
    "lables_indices = get_label_indices(Y_train)\n",
    "print('label indices:\\n',lables_indices)"
   ]
  },
  {
   "cell_type": "code",
   "execution_count": 6,
   "id": "e297d36b",
   "metadata": {},
   "outputs": [],
   "source": [
    "def get_prior(label_indices):\n",
    "    prior = {label: len(indices) for label,indices in label_indices.items()}\n",
    "    total_count = sum(prior.values())\n",
    "    for label in prior:\n",
    "        prior[label] /=total_count\n",
    "    return prior"
   ]
  },
  {
   "cell_type": "code",
   "execution_count": 7,
   "id": "a321fc62",
   "metadata": {},
   "outputs": [
    {
     "name": "stdout",
     "output_type": "stream",
     "text": [
      "prior:\n",
      " {'Y': 0.75, 'N': 0.25}\n"
     ]
    }
   ],
   "source": [
    "prior = get_prior(lables_indices)\n",
    "print('prior:\\n',prior)"
   ]
  },
  {
   "cell_type": "markdown",
   "id": "1c648e1c",
   "metadata": {},
   "source": [
    "## Workout"
   ]
  },
  {
   "cell_type": "code",
   "execution_count": 8,
   "id": "02596b47",
   "metadata": {},
   "outputs": [
    {
     "data": {
      "text/plain": [
       "array([0.4, 0.6, 0.4])"
      ]
     },
     "execution_count": 8,
     "metadata": {},
     "output_type": "execute_result"
    }
   ],
   "source": [
    "(X_train[[0,2,3],:].sum(axis=0)+1)/(3+2*1)"
   ]
  },
  {
   "cell_type": "code",
   "execution_count": 9,
   "id": "722b64db",
   "metadata": {},
   "outputs": [],
   "source": [
    "def get_likelihood(features,label_indices,smoothing=0):\n",
    "    likelihood={}\n",
    "    for label,indices in label_indices.items():\n",
    "        likelihood[label] = features[indices, :].sum(axis=0)+smoothing\n",
    "        total_count = len(indices)\n",
    "        likelihood[label] = likelihood[label]/(total_count + 2 * smoothing)\n",
    "    return likelihood"
   ]
  },
  {
   "cell_type": "code",
   "execution_count": 10,
   "id": "c289fbc0",
   "metadata": {},
   "outputs": [
    {
     "name": "stdout",
     "output_type": "stream",
     "text": [
      "Likelihood :\n",
      " {'Y': array([0.4, 0.6, 0.4]), 'N': array([0.33333333, 0.33333333, 0.66666667])}\n"
     ]
    }
   ],
   "source": [
    "smoothing = 1\n",
    "likelihood = get_likelihood(X_train,lables_indices,smoothing)\n",
    "print('Likelihood :\\n',likelihood)"
   ]
  },
  {
   "cell_type": "code",
   "execution_count": 20,
   "id": "121b88a2",
   "metadata": {},
   "outputs": [],
   "source": [
    "def get_posterior(X,prior,likelihood):\n",
    "    posteriors = []\n",
    "    for x in X:\n",
    "        posterior = prior.copy()\n",
    "        for label,likelihood_label in likelihood.items():\n",
    "            for index,bool_value in enumerate(x):\n",
    "                posterior[label]*=likelihood_label[index]if bool_value else (1 - likelihood_label[index])\n",
    "        \n",
    "        sum_posterior = sum(posterior.values())\n",
    "        for label in posterior:\n",
    "            if posterior[label] == float('inf'):\n",
    "                posterior[label] = 1.0\n",
    "            else:\n",
    "                posterior[label]/=sum_posterior\n",
    "        posteriors.append(posterior.copy())\n",
    "    return posteriors"
   ]
  },
  {
   "cell_type": "code",
   "execution_count": 21,
   "id": "aae240d0",
   "metadata": {},
   "outputs": [
    {
     "name": "stdout",
     "output_type": "stream",
     "text": [
      "Posterior: \n",
      " [{'Y': 0.9210360075805433, 'N': 0.07896399241945673}]\n"
     ]
    }
   ],
   "source": [
    "posterior = get_posterior(X_test,prior,likelihood)\n",
    "print('Posterior: \\n',posterior)"
   ]
  },
  {
   "cell_type": "markdown",
   "id": "79474775",
   "metadata": {},
   "source": [
    "# Implementing Naïve Bayes with scikit-learn"
   ]
  },
  {
   "cell_type": "code",
   "execution_count": 1,
   "id": "ad1ac79a",
   "metadata": {},
   "outputs": [],
   "source": [
    "from sklearn.naive_bayes import BernoulliNB"
   ]
  },
  {
   "cell_type": "code",
   "execution_count": 2,
   "id": "8a642146",
   "metadata": {},
   "outputs": [],
   "source": [
    "clf = BernoulliNB(alpha=1.0,fit_prior=True)"
   ]
  },
  {
   "cell_type": "code",
   "execution_count": 6,
   "id": "a564f5d1",
   "metadata": {},
   "outputs": [
    {
     "data": {
      "text/plain": [
       "BernoulliNB()"
      ]
     },
     "execution_count": 6,
     "metadata": {},
     "output_type": "execute_result"
    }
   ],
   "source": [
    "clf.fit(X_train,Y_train)"
   ]
  },
  {
   "cell_type": "code",
   "execution_count": 9,
   "id": "3cc4de14",
   "metadata": {},
   "outputs": [
    {
     "name": "stdout",
     "output_type": "stream",
     "text": [
      "Probability of test : \n",
      " [[0.07896399 0.92103601]]\n"
     ]
    }
   ],
   "source": [
    "pred_prob = clf.predict_proba(X_test)\n",
    "print('Probability of test : \\n',pred_prob)"
   ]
  },
  {
   "cell_type": "code",
   "execution_count": 10,
   "id": "d3133c15",
   "metadata": {},
   "outputs": [
    {
     "name": "stdout",
     "output_type": "stream",
     "text": [
      "Prediction: \n",
      " ['Y']\n"
     ]
    }
   ],
   "source": [
    "pred = clf.predict(X_test)\n",
    "print('Prediction: \\n',pred)"
   ]
  },
  {
   "cell_type": "code",
   "execution_count": null,
   "id": "8e2510e4",
   "metadata": {},
   "outputs": [],
   "source": []
  }
 ],
 "metadata": {
  "kernelspec": {
   "display_name": "Python 3 (ipykernel)",
   "language": "python",
   "name": "python3"
  },
  "language_info": {
   "codemirror_mode": {
    "name": "ipython",
    "version": 3
   },
   "file_extension": ".py",
   "mimetype": "text/x-python",
   "name": "python",
   "nbconvert_exporter": "python",
   "pygments_lexer": "ipython3",
   "version": "3.10.1"
  }
 },
 "nbformat": 4,
 "nbformat_minor": 5
}
