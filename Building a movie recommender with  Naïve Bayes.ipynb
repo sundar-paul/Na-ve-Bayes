{
 "cells": [
  {
   "cell_type": "code",
   "execution_count": 1,
   "id": "90762b37",
   "metadata": {},
   "outputs": [],
   "source": [
    "import numpy as np\n",
    "import pandas as pd\n",
    "from collections import defaultdict\n",
    "data_path = 'ml-10M100K/ratings.dat'\n",
    "n_users = 71567\n",
    "n_movies = 10681"
   ]
  },
  {
   "cell_type": "code",
   "execution_count": 2,
   "id": "4f116d2f",
   "metadata": {},
   "outputs": [],
   "source": [
    "from sklearn.model_selection import train_test_split\n",
    "from sklearn.naive_bayes import MultinomialNB"
   ]
  },
  {
   "cell_type": "code",
   "execution_count": 3,
   "id": "0b0d1fac",
   "metadata": {},
   "outputs": [],
   "source": [
    "def load_rating_data(data_path,n_users,n_movies):\n",
    "    data = np.zeros([n_users,n_movies],dtype=np.float32)\n",
    "    movie_id_mapping = {}\n",
    "    movie_n_rating = defaultdict(int)\n",
    "    with open(data_path,'r') as file:\n",
    "        for line in file.readlines()[1:]:\n",
    "            user_id,movie_id,rating,_ = line.split(\"::\")\n",
    "            user_id = int(user_id) - 1\n",
    "            if movie_id not in movie_id_mapping:\n",
    "                movie_id_mapping[movie_id] = len(movie_id_mapping)\n",
    "            rating = int(float(rating))\n",
    "            \n",
    "            data[user_id,movie_id_mapping[movie_id]] = rating\n",
    "            \n",
    "            if rating>0:\n",
    "                movie_n_rating[movie_id] += 1\n",
    "                \n",
    "    return data,movie_n_rating,movie_id_mapping"
   ]
  },
  {
   "cell_type": "code",
   "execution_count": 4,
   "id": "5663e2c2",
   "metadata": {},
   "outputs": [],
   "source": [
    "data,movie_n_rating,movie_id_mapping = load_rating_data(data_path,n_users,n_movies)"
   ]
  },
  {
   "cell_type": "code",
   "execution_count": 5,
   "id": "899f5b4a",
   "metadata": {},
   "outputs": [],
   "source": [
    "def display_distribution(data):\n",
    "    values,counts = np.unique(data,return_counts=True)\n",
    "    for value,count in zip(values,counts):\n",
    "        print(f'Number of rating {int(value)}: {count}')"
   ]
  },
  {
   "cell_type": "code",
   "execution_count": 6,
   "id": "ce484bea",
   "metadata": {},
   "outputs": [
    {
     "name": "stdout",
     "output_type": "stream",
     "text": [
      "Number of rating 0: 754502062\n",
      "Number of rating 1: 502458\n",
      "Number of rating 2: 1160484\n",
      "Number of rating 3: 3236440\n",
      "Number of rating 4: 3460872\n",
      "Number of rating 5: 1544811\n"
     ]
    }
   ],
   "source": [
    "display_distribution(data)"
   ]
  },
  {
   "cell_type": "code",
   "execution_count": 7,
   "id": "55f17965",
   "metadata": {},
   "outputs": [
    {
     "name": "stdout",
     "output_type": "stream",
     "text": [
      "Movie ID 296 has 34756 ratings.\n"
     ]
    }
   ],
   "source": [
    "movie_id_most,n_rating_most = sorted(movie_n_rating.items(),key=lambda d:d[1],reverse=True)[0]\n",
    "print(f'Movie ID {movie_id_most} has {n_rating_most} ratings.')"
   ]
  },
  {
   "cell_type": "code",
   "execution_count": 8,
   "id": "c035eece",
   "metadata": {},
   "outputs": [],
   "source": [
    "# Since most rating are unknown, we take the movie with the most rating as our target movie."
   ]
  },
  {
   "cell_type": "code",
   "execution_count": 9,
   "id": "6c9adec0",
   "metadata": {},
   "outputs": [],
   "source": [
    "X_raw = np.delete(data,movie_id_mapping[movie_id_most],axis=1)\n",
    "Y_raw = data[:,movie_id_mapping[movie_id_most]]"
   ]
  },
  {
   "cell_type": "code",
   "execution_count": 10,
   "id": "0095487a",
   "metadata": {},
   "outputs": [
    {
     "name": "stdout",
     "output_type": "stream",
     "text": [
      "(71567, 10680) (71567,)\n"
     ]
    }
   ],
   "source": [
    "print(X_raw.shape,Y_raw.shape)"
   ]
  },
  {
   "cell_type": "code",
   "execution_count": 11,
   "id": "cf9850a6",
   "metadata": {},
   "outputs": [
    {
     "name": "stdout",
     "output_type": "stream",
     "text": [
      "Shape of X:  (34756, 10680)\n",
      "Shape of Y:  (34756,)\n"
     ]
    }
   ],
   "source": [
    "X = X_raw[Y_raw > 0]\n",
    "Y = Y_raw[Y_raw > 0]\n",
    "print('Shape of X: ',X.shape)\n",
    "print('Shape of Y: ',Y.shape)"
   ]
  },
  {
   "cell_type": "code",
   "execution_count": 12,
   "id": "2901090e",
   "metadata": {},
   "outputs": [
    {
     "name": "stdout",
     "output_type": "stream",
     "text": [
      "Number of rating 1: 1030\n",
      "Number of rating 2: 1388\n",
      "Number of rating 3: 5476\n",
      "Number of rating 4: 11889\n",
      "Number of rating 5: 14973\n"
     ]
    }
   ],
   "source": [
    "display_distribution(Y)"
   ]
  },
  {
   "cell_type": "code",
   "execution_count": 13,
   "id": "3de82898",
   "metadata": {},
   "outputs": [
    {
     "name": "stdout",
     "output_type": "stream",
     "text": [
      "26862 positive samples and 7894 negative samples.\n"
     ]
    }
   ],
   "source": [
    "recommend = 3\n",
    "Y[Y <= recommend] = 0\n",
    "Y[Y > recommend] = 1\n",
    "n_pos = (Y==1).sum()\n",
    "n_neg = (Y==0).sum()\n",
    "print(f'{n_pos} positive samples and {n_neg} negative samples.')"
   ]
  },
  {
   "cell_type": "code",
   "execution_count": 14,
   "id": "d407371b",
   "metadata": {},
   "outputs": [],
   "source": [
    "X_train, X_test, Y_train, Y_test = train_test_split(X,Y,test_size=0.2,random_state=42)"
   ]
  },
  {
   "cell_type": "code",
   "execution_count": 15,
   "id": "450597c4",
   "metadata": {},
   "outputs": [
    {
     "name": "stdout",
     "output_type": "stream",
     "text": [
      "27804 6952\n"
     ]
    }
   ],
   "source": [
    "print(len(Y_train),len(Y_test))"
   ]
  },
  {
   "cell_type": "code",
   "execution_count": 16,
   "id": "61b5abeb",
   "metadata": {},
   "outputs": [
    {
     "data": {
      "text/plain": [
       "MultinomialNB()"
      ]
     },
     "execution_count": 16,
     "metadata": {},
     "output_type": "execute_result"
    }
   ],
   "source": [
    "clf = MultinomialNB(alpha=1.0,fit_prior=True)\n",
    "clf.fit(X_train,Y_train)"
   ]
  },
  {
   "cell_type": "code",
   "execution_count": 17,
   "id": "ff870a9a",
   "metadata": {},
   "outputs": [
    {
     "name": "stdout",
     "output_type": "stream",
     "text": [
      "[[1.42206797e-12 1.00000000e+00]\n",
      " [1.33502332e-31 1.00000000e+00]\n",
      " [9.99223787e-01 7.76213294e-04]\n",
      " [1.08495315e-16 1.00000000e+00]\n",
      " [6.17403325e-05 9.99938260e-01]\n",
      " [9.99999961e-01 3.85937752e-08]\n",
      " [1.42256921e-42 1.00000000e+00]\n",
      " [1.46517456e-17 1.00000000e+00]\n",
      " [1.61249328e-22 1.00000000e+00]\n",
      " [4.41258271e-95 1.00000000e+00]]\n"
     ]
    }
   ],
   "source": [
    "prediction_prob = clf.predict_proba(X_test)\n",
    "print(prediction_prob[:10])"
   ]
  },
  {
   "cell_type": "code",
   "execution_count": 18,
   "id": "4e62285f",
   "metadata": {},
   "outputs": [
    {
     "name": "stdout",
     "output_type": "stream",
     "text": [
      "[1. 1. 0. 1. 1. 0. 1. 1. 1. 1.]\n"
     ]
    }
   ],
   "source": [
    "prediction = clf.predict(X_test)\n",
    "print(prediction[:10])"
   ]
  },
  {
   "cell_type": "code",
   "execution_count": 19,
   "id": "c29c1149",
   "metadata": {},
   "outputs": [
    {
     "name": "stdout",
     "output_type": "stream",
     "text": [
      "The accuracy is : 60.1%\n"
     ]
    }
   ],
   "source": [
    "accuracy = clf.score(X_test,Y_test)\n",
    "print(f'The accuracy is : {accuracy*100:.1f}%')"
   ]
  },
  {
   "cell_type": "code",
   "execution_count": 20,
   "id": "cdd8adff",
   "metadata": {},
   "outputs": [],
   "source": [
    "from sklearn.metrics import confusion_matrix"
   ]
  },
  {
   "cell_type": "code",
   "execution_count": 21,
   "id": "a4e45f6e",
   "metadata": {},
   "outputs": [
    {
     "name": "stdout",
     "output_type": "stream",
     "text": [
      "[[ 983  521]\n",
      " [2256 3192]]\n"
     ]
    }
   ],
   "source": [
    "print(confusion_matrix(Y_test,prediction,labels=[0,1]))"
   ]
  },
  {
   "cell_type": "code",
   "execution_count": 22,
   "id": "8a1235f2",
   "metadata": {},
   "outputs": [
    {
     "data": {
      "text/plain": [
       "0.8596821976838136"
      ]
     },
     "execution_count": 22,
     "metadata": {},
     "output_type": "execute_result"
    }
   ],
   "source": [
    "from sklearn.metrics import precision_score,recall_score,f1_score\n",
    "precision_score(Y_test,prediction,pos_label=1)"
   ]
  },
  {
   "cell_type": "code",
   "execution_count": 23,
   "id": "63574f3d",
   "metadata": {},
   "outputs": [
    {
     "data": {
      "text/plain": [
       "0.5859030837004405"
      ]
     },
     "execution_count": 23,
     "metadata": {},
     "output_type": "execute_result"
    }
   ],
   "source": [
    "recall_score(Y_test,prediction,pos_label=1)"
   ]
  },
  {
   "cell_type": "code",
   "execution_count": 24,
   "id": "21ee12de",
   "metadata": {},
   "outputs": [
    {
     "data": {
      "text/plain": [
       "0.6968671542408035"
      ]
     },
     "execution_count": 24,
     "metadata": {},
     "output_type": "execute_result"
    }
   ],
   "source": [
    "f1_score(Y_test,prediction,pos_label=1)"
   ]
  },
  {
   "cell_type": "code",
   "execution_count": 25,
   "id": "bbd59b12",
   "metadata": {},
   "outputs": [
    {
     "name": "stdout",
     "output_type": "stream",
     "text": [
      "              precision    recall  f1-score   support\n",
      "\n",
      "         0.0       0.30      0.65      0.41      1504\n",
      "         1.0       0.86      0.59      0.70      5448\n",
      "\n",
      "    accuracy                           0.60      6952\n",
      "   macro avg       0.58      0.62      0.56      6952\n",
      "weighted avg       0.74      0.60      0.64      6952\n",
      "\n"
     ]
    }
   ],
   "source": [
    "from sklearn.metrics import classification_report\n",
    "report = classification_report(Y_test,prediction)\n",
    "print(report)"
   ]
  },
  {
   "cell_type": "code",
   "execution_count": 26,
   "id": "b23c3c1b",
   "metadata": {},
   "outputs": [],
   "source": [
    "pos_prob = prediction_prob[:,1]\n",
    "thresholds = np.arange(0.0,1.1,0.05)\n",
    "true_pos,false_pos = [0]*len(thresholds),[0]*len(thresholds)\n",
    "\n",
    "for pred,y in zip(pos_prob,Y_test):\n",
    "    for i,threshold in enumerate(thresholds):\n",
    "        if pred >= threshold:\n",
    "            if y == 1:\n",
    "                true_pos[i] += 1\n",
    "            else:\n",
    "                false_pos[i] += 1\n",
    "        else:\n",
    "            break"
   ]
  },
  {
   "cell_type": "code",
   "execution_count": 28,
   "id": "2fb4b686",
   "metadata": {},
   "outputs": [
    {
     "name": "stdout",
     "output_type": "stream",
     "text": [
      "+ 5448 - 1504\n"
     ]
    }
   ],
   "source": [
    "n_pos_test = (Y_test == 1).sum()\n",
    "n_neg_test = (Y_test == 0).sum()\n",
    "print(f'+ {n_pos_test} - {n_neg_test}')"
   ]
  },
  {
   "cell_type": "code",
   "execution_count": 30,
   "id": "2005985f",
   "metadata": {},
   "outputs": [],
   "source": [
    "true_pos_rate = [tp/ n_pos_test for tp in true_pos]\n",
    "false_pos_rate = [fp/n_neg_test for fp in false_pos]"
   ]
  },
  {
   "cell_type": "code",
   "execution_count": 29,
   "id": "7eee2883",
   "metadata": {},
   "outputs": [],
   "source": [
    "import matplotlib.pyplot as plt"
   ]
  },
  {
   "cell_type": "code",
   "execution_count": 34,
   "id": "bf3ac4aa",
   "metadata": {},
   "outputs": [
    {
     "name": "stderr",
     "output_type": "stream",
     "text": [
      "No artists with labels found to put in legend.  Note that artists whose label start with an underscore are ignored when legend() is called with no argument.\n"
     ]
    },
    {
     "data": {
      "image/png": "[encoded data removed]",
      "text/plain": [
       "<Figure size 720x720 with 1 Axes>"
      ]
     },
     "metadata": {
      "needs_background": "light"
     },
     "output_type": "display_data"
    }
   ],
   "source": [
    "plt.figure(figsize=(10,10))\n",
    "lw = 2\n",
    "plt.plot(false_pos_rate,true_pos_rate,color='darkorange',lw=lw)\n",
    "plt.plot([0,1],[0,1],color='navy',lw=lw,linestyle = '--')\n",
    "plt.xlim([0.0,1.0])\n",
    "plt.ylim([0.0,1.0])\n",
    "plt.xlabel('False Positive')\n",
    "plt.ylabel('True Positive')\n",
    "plt.title(\"Reciver Operating Characteristic\")\n",
    "plt.legend(loc=\"lower right\")\n",
    "plt.show()"
   ]
  },
  {
   "cell_type": "code",
   "execution_count": 35,
   "id": "6e9a8142",
   "metadata": {},
   "outputs": [
    {
     "data": {
      "text/plain": [
       "0.6557523671579655"
      ]
     },
     "execution_count": 35,
     "metadata": {},
     "output_type": "execute_result"
    }
   ],
   "source": [
    "from sklearn.metrics import roc_auc_score\n",
    "roc_auc_score(Y_test,pos_prob)"
   ]
  },
  {
   "cell_type": "code",
   "execution_count": 37,
   "id": "57f99ac8",
   "metadata": {},
   "outputs": [],
   "source": [
    "from sklearn.model_selection import StratifiedKFold\n",
    "k=5\n",
    "k_fold = StratifiedKFold(n_splits=k)"
   ]
  },
  {
   "cell_type": "code",
   "execution_count": 38,
   "id": "53e24922",
   "metadata": {},
   "outputs": [],
   "source": [
    "smoothing_factor_option = [1,2,3,4,5,6]\n",
    "fit_prior_option = [True,False]\n",
    "auc_record = {}"
   ]
  },
  {
   "cell_type": "code",
   "execution_count": 40,
   "id": "301893d8",
   "metadata": {},
   "outputs": [],
   "source": [
    "for train_indices,test_indices in k_fold.split(X,Y):\n",
    "    X_train,X_test = X[train_indices],X[test_indices]\n",
    "    Y_train,Y_test = Y[train_indices],Y[test_indices]\n",
    "    for alpha in smoothing_factor_option:\n",
    "        if alpha not in auc_record:\n",
    "            auc_record[alpha] = {}\n",
    "        for fit_prior in fit_prior_option:\n",
    "            clf = MultinomialNB(alpha=alpha,fit_prior=fit_prior)\n",
    "            clf.fit(X_train,Y_train)\n",
    "            prediction_prob = clf.predict_proba(X_test)\n",
    "            pos_prob = prediction_prob[:,1]\n",
    "            auc = roc_auc_score(Y_test,pos_prob)\n",
    "            auc_record[alpha][fit_prior] = auc + auc_record[alpha].get(fit_prior,0.0)"
   ]
  },
  {
   "cell_type": "code",
   "execution_count": 41,
   "id": "96270926",
   "metadata": {},
   "outputs": [
    {
     "name": "stdout",
     "output_type": "stream",
     "text": [
      "   1    True    0.66323\n",
      "   1    False    0.66346\n",
      "   2    True    0.66333\n",
      "   2    False    0.66370\n",
      "   3    True    0.66350\n",
      "   3    False    0.66379\n",
      "   4    True    0.66362\n",
      "   4    False    0.66402\n",
      "   5    True    0.66367\n",
      "   5    False    0.66417\n",
      "   6    True    0.66369\n",
      "   6    False    0.66388\n"
     ]
    }
   ],
   "source": [
    "for smoothing,smoothing_record in auc_record.items():\n",
    "    for fit_prior,auc in smoothing_record.items():\n",
    "        print(f'   {smoothing}    {fit_prior}    {auc/k:.5f}')"
   ]
  },
  {
   "cell_type": "code",
   "execution_count": 42,
   "id": "cbc384a9",
   "metadata": {},
   "outputs": [
    {
     "data": {
      "text/plain": [
       "(5, False)"
      ]
     },
     "execution_count": 42,
     "metadata": {},
     "output_type": "execute_result"
    }
   ],
   "source": [
    "(5,False)"
   ]
  },
  {
   "cell_type": "code",
   "execution_count": 43,
   "id": "a9c87727",
   "metadata": {},
   "outputs": [
    {
     "name": "stdout",
     "output_type": "stream",
     "text": [
      "AUC with the best model :  0.6747779761597265\n"
     ]
    }
   ],
   "source": [
    "clf = MultinomialNB(alpha=5,fit_prior=False)\n",
    "clf.fit(X_train,Y_train)\n",
    "pos_prob = clf.predict_proba(X_test)[:,1]\n",
    "print('AUC with the best model : ',roc_auc_score(Y_test,pos_prob))"
   ]
  },
  {
   "cell_type": "markdown",
   "id": "1d6b758a",
   "metadata": {},
   "source": [
    "### :)"
   ]
  }
 ],
 "metadata": {
  "kernelspec": {
   "display_name": "Python 3 (ipykernel)",
   "language": "python",
   "name": "python3"
  },
  "language_info": {
   "codemirror_mode": {
    "name": "ipython",
    "version": 3
   },
   "file_extension": ".py",
   "mimetype": "text/x-python",
   "name": "python",
   "nbconvert_exporter": "python",
   "pygments_lexer": "ipython3",
   "version": "3.10.1"
  }
 },
 "nbformat": 4,
 "nbformat_minor": 5
}
